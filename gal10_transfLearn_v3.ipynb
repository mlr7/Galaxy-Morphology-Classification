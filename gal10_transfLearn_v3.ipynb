{
 "cells": [
  {
   "cell_type": "code",
   "execution_count": null,
   "metadata": {},
   "outputs": [],
   "source": []
  },
  {
   "cell_type": "code",
   "execution_count": 1,
   "metadata": {},
   "outputs": [
    {
     "name": "stdout",
     "output_type": "stream",
     "text": [
      "2.7.0\n"
     ]
    }
   ],
   "source": [
    "import numpy as np\n",
    "\n",
    "import tensorflow as tf\n",
    "print(tf.__version__)  # 2.7.0\n",
    "\n",
    "from tensorflow.keras.utils import image_dataset_from_directory\n",
    "\n",
    "from tensorflow import keras\n",
    "from tensorflow.keras import layers"
   ]
  },
  {
   "cell_type": "code",
   "execution_count": 2,
   "metadata": {},
   "outputs": [],
   "source": [
    "#new_base_dir = 'C:/Users/m85302/Desktop/data4_local/astro_data/galaxy_zoo_data/chollet_format_galaxy_zoo_data/galzoo_feat_vs_smooth_small/'\n",
    "\n",
    "new_base_dir = 'C:/Users/m85302/Desktop/data4_local/astro_data/galaxy10_data/jpgCreated_Galaxy10_data/galaxy10_binary_Chollet-Format_1/'"
   ]
  },
  {
   "cell_type": "code",
   "execution_count": 3,
   "metadata": {},
   "outputs": [
    {
     "name": "stdout",
     "output_type": "stream",
     "text": [
      "Found 2036 files belonging to 2 classes.\n",
      "Found 1014 files belonging to 2 classes.\n",
      "Found 2042 files belonging to 2 classes.\n"
     ]
    }
   ],
   "source": [
    "train_dataset = image_dataset_from_directory(\n",
    "    #new_base_dir / \"train\",\n",
    "    new_base_dir + \"/train/\",\n",
    "    #image_size=(180, 180),\n",
    "    image_size=(69, 69),\n",
    "    batch_size=32)\n",
    "validation_dataset = image_dataset_from_directory(\n",
    "    #new_base_dir / \"validation\",\n",
    "    new_base_dir  + \"/validation/\",\n",
    "    #image_size=(180, 180),\n",
    "    image_size=(69, 69),\n",
    "    batch_size=32)\n",
    "test_dataset = image_dataset_from_directory(\n",
    "    #new_base_dir / \"test\",\n",
    "    new_base_dir + \"/test/\",\n",
    "    #image_size=(180, 180),\n",
    "    image_size=(69, 69),\n",
    "    batch_size=32)"
   ]
  },
  {
   "cell_type": "code",
   "execution_count": 4,
   "metadata": {},
   "outputs": [
    {
     "name": "stdout",
     "output_type": "stream",
     "text": [
      "2.7.0\n",
      " /device:CPU:0 || Unnamed device || CPU || 256.0 MiB\n",
      " /device:GPU:0 ||  Quadro T2000 || GPU || 2.1 GiB\n"
     ]
    }
   ],
   "source": [
    "# check gpu availability (jeff heaton . . . )\n",
    "\n",
    "import tensorflow as tf\n",
    "print(tf.__version__)\n",
    "\n",
    "from tensorflow.python.client import device_lib\n",
    "devices = device_lib.list_local_devices()\n",
    "\n",
    "def sizeof_fmt(num, suffix='B'):\n",
    "    for unit in ['','Ki','Mi','Gi','Ti','Pi','Ei','Zi']:\n",
    "        if abs(num) < 1024.0:\n",
    "            return \"%3.1f %s%s\" % (num, unit, suffix)\n",
    "        num /= 1024.0\n",
    "    return \"%.1f%s%s\" % (num, 'Yi', suffix)\n",
    "\n",
    "for d in devices:\n",
    "    t = d.device_type\n",
    "    name = d.physical_device_desc\n",
    "    l = [item.split(':',1) for item in name.split(\", \")]\n",
    "    name_attr = dict([x for x in l if len(x)==2])\n",
    "    dev = name_attr.get('name', 'Unnamed device')\n",
    "    print(f\" {d.name} || {dev} || {t} || {sizeof_fmt(d.memory_limit)}\")\n",
    "    \n",
    "# /device:CPU:0 || Unnamed device || CPU || 256.0 MiB\n",
    "# /device:GPU:0 ||  Quadro T2000 || GPU || 2.1 GiB"
   ]
  },
  {
   "cell_type": "markdown",
   "metadata": {},
   "source": [
    "### Y. Transfer learning, VGG16"
   ]
  },
  {
   "cell_type": "code",
   "execution_count": null,
   "metadata": {},
   "outputs": [],
   "source": [
    "## EfficientNet\n",
    "\n",
    "conv_base_efficientnet = keras.applications.EfficientNetB0(\n",
    "    weights=\"imagenet\",\n",
    "    include_top=False,\n",
    "    input_shape=(180, 180, 3))\n",
    "\n",
    "conv_base_efficientnet.summary()"
   ]
  },
  {
   "cell_type": "code",
   "execution_count": 5,
   "metadata": {},
   "outputs": [
    {
     "name": "stdout",
     "output_type": "stream",
     "text": [
      "Model: \"vgg16\"\n",
      "_________________________________________________________________\n",
      " Layer (type)                Output Shape              Param #   \n",
      "=================================================================\n",
      " input_1 (InputLayer)        [(None, 69, 69, 3)]       0         \n",
      "                                                                 \n",
      " block1_conv1 (Conv2D)       (None, 69, 69, 64)        1792      \n",
      "                                                                 \n",
      " block1_conv2 (Conv2D)       (None, 69, 69, 64)        36928     \n",
      "                                                                 \n",
      " block1_pool (MaxPooling2D)  (None, 34, 34, 64)        0         \n",
      "                                                                 \n",
      " block2_conv1 (Conv2D)       (None, 34, 34, 128)       73856     \n",
      "                                                                 \n",
      " block2_conv2 (Conv2D)       (None, 34, 34, 128)       147584    \n",
      "                                                                 \n",
      " block2_pool (MaxPooling2D)  (None, 17, 17, 128)       0         \n",
      "                                                                 \n",
      " block3_conv1 (Conv2D)       (None, 17, 17, 256)       295168    \n",
      "                                                                 \n",
      " block3_conv2 (Conv2D)       (None, 17, 17, 256)       590080    \n",
      "                                                                 \n",
      " block3_conv3 (Conv2D)       (None, 17, 17, 256)       590080    \n",
      "                                                                 \n",
      " block3_pool (MaxPooling2D)  (None, 8, 8, 256)         0         \n",
      "                                                                 \n",
      " block4_conv1 (Conv2D)       (None, 8, 8, 512)         1180160   \n",
      "                                                                 \n",
      " block4_conv2 (Conv2D)       (None, 8, 8, 512)         2359808   \n",
      "                                                                 \n",
      " block4_conv3 (Conv2D)       (None, 8, 8, 512)         2359808   \n",
      "                                                                 \n",
      " block4_pool (MaxPooling2D)  (None, 4, 4, 512)         0         \n",
      "                                                                 \n",
      " block5_conv1 (Conv2D)       (None, 4, 4, 512)         2359808   \n",
      "                                                                 \n",
      " block5_conv2 (Conv2D)       (None, 4, 4, 512)         2359808   \n",
      "                                                                 \n",
      " block5_conv3 (Conv2D)       (None, 4, 4, 512)         2359808   \n",
      "                                                                 \n",
      " block5_pool (MaxPooling2D)  (None, 2, 2, 512)         0         \n",
      "                                                                 \n",
      "=================================================================\n",
      "Total params: 14,714,688\n",
      "Trainable params: 14,714,688\n",
      "Non-trainable params: 0\n",
      "_________________________________________________________________\n"
     ]
    }
   ],
   "source": [
    "conv_base = keras.applications.vgg16.VGG16(\n",
    "    weights=\"imagenet\",\n",
    "    include_top=False,\n",
    "    \n",
    "    #input_shape=(180, 180, 3))\n",
    "    input_shape=(69, 69, 3))\n",
    "\n",
    "conv_base.summary()"
   ]
  },
  {
   "cell_type": "code",
   "execution_count": 8,
   "metadata": {},
   "outputs": [],
   "source": [
    "def get_features_and_labels(dataset):\n",
    "    all_features = []\n",
    "    all_labels = []\n",
    "    for images, labels in dataset:\n",
    "        \n",
    "        preprocessed_images = keras.applications.vgg16.preprocess_input(images)\n",
    "        features = conv_base.predict(preprocessed_images)\n",
    "        \n",
    "        #preprocessed_images = keras.applications.efficientnet.preprocess_input(images) # figure this out\n",
    "        #features = conv_base_efficientnet.predict(preprocessed_images)\n",
    "        \n",
    "        all_features.append(features)\n",
    "        all_labels.append(labels)\n",
    "    return np.concatenate(all_features), np.concatenate(all_labels)"
   ]
  },
  {
   "cell_type": "code",
   "execution_count": 9,
   "metadata": {},
   "outputs": [
    {
     "name": "stdout",
     "output_type": "stream",
     "text": [
      "VGG16 Base:\n",
      "Wall time: 24.1 s\n"
     ]
    }
   ],
   "source": [
    "%%time\n",
    "\n",
    "#print('EfficientNetB0 Base:')\n",
    "print('VGG16 Base:')\n",
    "\n",
    "train_features, train_labels =  get_features_and_labels(train_dataset)\n",
    "val_features, val_labels =  get_features_and_labels(validation_dataset)\n",
    "test_features, test_labels =  get_features_and_labels(test_dataset)\n",
    "\n",
    "## VGG16 Base: (180x180)\n",
    "## Wall time: 1min 22s\n",
    "\n",
    "# Galaxy10:, 69x69\n",
    "#VGG16 Base:\n",
    "#Wall time: 24.1 s"
   ]
  },
  {
   "cell_type": "code",
   "execution_count": 10,
   "metadata": {},
   "outputs": [
    {
     "data": {
      "text/plain": [
       "(2036, 2, 2, 512)"
      ]
     },
     "execution_count": 10,
     "metadata": {},
     "output_type": "execute_result"
    }
   ],
   "source": [
    "train_features.shape"
   ]
  },
  {
   "cell_type": "markdown",
   "metadata": {},
   "source": [
    "**Defining and training the densely connected classifier**"
   ]
  },
  {
   "cell_type": "code",
   "execution_count": 14,
   "metadata": {},
   "outputs": [],
   "source": [
    "#inputs = keras.Input(shape=(6,6,1280))\n",
    "#inputs = keras.Input(shape=(5, 5, 512))\n",
    "\n",
    "inputs = keras.Input(shape=(2, 2, 512))\n",
    "\n",
    "x = layers.Flatten()(inputs)\n",
    "x = layers.Dense(256)(x)\n",
    "x = layers.Dropout(0.5)(x)\n",
    "outputs = layers.Dense(1, activation=\"sigmoid\")(x)\n",
    "model = keras.Model(inputs, outputs)\n",
    "model.compile(loss=\"binary_crossentropy\",\n",
    "              optimizer=\"rmsprop\",\n",
    "              metrics=[\"accuracy\"])"
   ]
  },
  {
   "cell_type": "code",
   "execution_count": 15,
   "metadata": {},
   "outputs": [],
   "source": [
    "callbacks = [\n",
    "    keras.callbacks.ModelCheckpoint(\n",
    "      filepath=\"feature_extraction.keras\",\n",
    "      save_best_only=True,\n",
    "      monitor=\"val_loss\")\n",
    "]"
   ]
  },
  {
   "cell_type": "code",
   "execution_count": 16,
   "metadata": {},
   "outputs": [
    {
     "name": "stdout",
     "output_type": "stream",
     "text": [
      "Epoch 1/20\n",
      "64/64 [==============================] - 1s 10ms/step - loss: 2.3861 - accuracy: 0.8792 - val_loss: 0.5088 - val_accuracy: 0.9536\n",
      "Epoch 2/20\n",
      "64/64 [==============================] - 0s 5ms/step - loss: 0.9864 - accuracy: 0.9401 - val_loss: 1.5674 - val_accuracy: 0.9142\n",
      "Epoch 3/20\n",
      "64/64 [==============================] - 0s 5ms/step - loss: 0.7812 - accuracy: 0.9528 - val_loss: 0.7944 - val_accuracy: 0.9428\n",
      "Epoch 4/20\n",
      "64/64 [==============================] - 0s 6ms/step - loss: 0.6633 - accuracy: 0.9524 - val_loss: 0.3837 - val_accuracy: 0.9675\n",
      "Epoch 5/20\n",
      "64/64 [==============================] - 0s 6ms/step - loss: 0.7240 - accuracy: 0.9489 - val_loss: 0.4537 - val_accuracy: 0.9625\n",
      "Epoch 6/20\n",
      "64/64 [==============================] - 0s 6ms/step - loss: 0.5712 - accuracy: 0.9641 - val_loss: 0.6496 - val_accuracy: 0.9507\n",
      "Epoch 7/20\n",
      "64/64 [==============================] - 0s 6ms/step - loss: 0.5501 - accuracy: 0.9607 - val_loss: 1.3622 - val_accuracy: 0.9231\n",
      "Epoch 8/20\n",
      "64/64 [==============================] - 0s 7ms/step - loss: 0.5519 - accuracy: 0.9627 - val_loss: 0.3960 - val_accuracy: 0.9655\n",
      "Epoch 9/20\n",
      "64/64 [==============================] - 0s 7ms/step - loss: 0.4292 - accuracy: 0.9632 - val_loss: 0.4313 - val_accuracy: 0.9645\n",
      "Epoch 10/20\n",
      "64/64 [==============================] - 0s 6ms/step - loss: 0.4187 - accuracy: 0.9622 - val_loss: 1.0344 - val_accuracy: 0.9320\n",
      "Epoch 11/20\n",
      "64/64 [==============================] - 0s 6ms/step - loss: 0.3579 - accuracy: 0.9671 - val_loss: 0.3897 - val_accuracy: 0.9655\n",
      "Epoch 12/20\n",
      "64/64 [==============================] - 0s 6ms/step - loss: 0.3285 - accuracy: 0.9681 - val_loss: 0.4058 - val_accuracy: 0.9714\n",
      "Epoch 13/20\n",
      "64/64 [==============================] - 0s 6ms/step - loss: 0.3698 - accuracy: 0.9705 - val_loss: 0.3976 - val_accuracy: 0.9694\n",
      "Epoch 14/20\n",
      "64/64 [==============================] - 0s 8ms/step - loss: 0.3457 - accuracy: 0.9656 - val_loss: 0.3728 - val_accuracy: 0.9675\n",
      "Epoch 15/20\n",
      "64/64 [==============================] - 0s 7ms/step - loss: 0.2827 - accuracy: 0.9705 - val_loss: 0.4047 - val_accuracy: 0.9655\n",
      "Epoch 16/20\n",
      "64/64 [==============================] - 0s 7ms/step - loss: 0.2338 - accuracy: 0.9730 - val_loss: 0.4254 - val_accuracy: 0.9635\n",
      "Epoch 17/20\n",
      "64/64 [==============================] - 0s 7ms/step - loss: 0.2989 - accuracy: 0.9676 - val_loss: 0.4200 - val_accuracy: 0.9655\n",
      "Epoch 18/20\n",
      "64/64 [==============================] - 1s 8ms/step - loss: 0.2409 - accuracy: 0.9715 - val_loss: 0.5866 - val_accuracy: 0.9448\n",
      "Epoch 19/20\n",
      "64/64 [==============================] - 1s 8ms/step - loss: 0.2215 - accuracy: 0.9725 - val_loss: 0.3818 - val_accuracy: 0.9704\n",
      "Epoch 20/20\n",
      "64/64 [==============================] - 0s 6ms/step - loss: 0.2982 - accuracy: 0.9695 - val_loss: 0.4028 - val_accuracy: 0.9625\n"
     ]
    }
   ],
   "source": [
    "history = model.fit(\n",
    "    train_features, train_labels,\n",
    "    epochs=20,\n",
    "    validation_data=(val_features, val_labels),\n",
    "    callbacks=callbacks)"
   ]
  },
  {
   "cell_type": "code",
   "execution_count": 17,
   "metadata": {},
   "outputs": [
    {
     "data": {
      "image/png": "[encoded data removed]",
      "text/plain": [
       "<Figure size 432x288 with 1 Axes>"
      ]
     },
     "metadata": {
      "needs_background": "light"
     },
     "output_type": "display_data"
    },
    {
     "data": {
      "image/png": "[encoded data removed]",
      "text/plain": [
       "<Figure size 432x288 with 1 Axes>"
      ]
     },
     "metadata": {
      "needs_background": "light"
     },
     "output_type": "display_data"
    }
   ],
   "source": [
    "import matplotlib.pyplot as plt\n",
    "acc = history.history[\"accuracy\"]\n",
    "val_acc = history.history[\"val_accuracy\"]\n",
    "loss = history.history[\"loss\"]\n",
    "val_loss = history.history[\"val_loss\"]\n",
    "epochs = range(1, len(acc) + 1)\n",
    "plt.plot(epochs, acc, \"bo\", label=\"Training accuracy\")\n",
    "plt.plot(epochs, val_acc, \"b\", label=\"Validation accuracy\")\n",
    "plt.title(\"Training and validation accuracy\")\n",
    "plt.legend()\n",
    "plt.figure()\n",
    "plt.plot(epochs, loss, \"bo\", label=\"Training loss\")\n",
    "plt.plot(epochs, val_loss, \"b\", label=\"Validation loss\")\n",
    "plt.title(\"Training and validation loss\")\n",
    "plt.legend()\n",
    "plt.show()"
   ]
  },
  {
   "cell_type": "markdown",
   "metadata": {},
   "source": [
    "### Y. xAI with LIME-Image"
   ]
  },
  {
   "cell_type": "code",
   "execution_count": null,
   "metadata": {},
   "outputs": [],
   "source": []
  }
 ],
 "metadata": {
  "kernelspec": {
   "display_name": "Python 3",
   "language": "python",
   "name": "python3"
  },
  "language_info": {
   "codemirror_mode": {
    "name": "ipython",
    "version": 3
   },
   "file_extension": ".py",
   "mimetype": "text/x-python",
   "name": "python",
   "nbconvert_exporter": "python",
   "pygments_lexer": "ipython3",
   "version": "3.7.9"
  }
 },
 "nbformat": 4,
 "nbformat_minor": 5
}
